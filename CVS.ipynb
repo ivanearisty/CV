{
 "metadata": {
  "language_info": {
   "codemirror_mode": {
    "name": "ipython",
    "version": 3
   },
   "file_extension": ".py",
   "mimetype": "text/x-python",
   "name": "python",
   "nbconvert_exporter": "python",
   "pygments_lexer": "ipython3",
   "version": "3.8.5"
  },
  "orig_nbformat": 2,
  "kernelspec": {
   "name": "python385jvsc74a57bd046a7a87bfcd83941235e9e2e2334827431267b5370d9125fb1c7c3ec743196c0",
   "display_name": "Python 3.8.5 64-bit ('base': conda)"
  }
 },
 "nbformat": 4,
 "nbformat_minor": 2,
 "cells": [
  {
   "cell_type": "code",
   "execution_count": 111,
   "metadata": {},
   "outputs": [],
   "source": [
    "import pandas as pd\n",
    "import requests"
   ]
  },
  {
   "cell_type": "code",
   "execution_count": 112,
   "metadata": {},
   "outputs": [
    {
     "output_type": "execute_result",
     "data": {
      "text/plain": [
       "{'maxAge': 1,\n",
       " 'priceHint': 2,\n",
       " 'previousClose': 75.75,\n",
       " 'open': 75.48,\n",
       " 'dayLow': 74.97,\n",
       " 'dayHigh': 75.59,\n",
       " 'regularMarketPreviousClose': 75.75,\n",
       " 'regularMarketOpen': 75.48,\n",
       " 'regularMarketDayLow': 74.97,\n",
       " 'regularMarketDayHigh': 75.59,\n",
       " 'dividendRate': 2.0,\n",
       " 'dividendYield': 0.026600001,\n",
       " 'exDividendDate': '2021-04-21 20:00:00',\n",
       " 'payoutRatio': 0.36560002,\n",
       " 'fiveYearAvgDividendYield': 2.78,\n",
       " 'beta': 0.821842,\n",
       " 'trailingPE': 13.748857,\n",
       " 'forwardPE': 9.27284,\n",
       " 'volume': 3768110,\n",
       " 'regularMarketVolume': 3768110,\n",
       " 'averageVolume': 6756567,\n",
       " 'averageVolume10days': 5999733,\n",
       " 'averageDailyVolume10Day': 5999733,\n",
       " 'bid': 0.0,\n",
       " 'ask': 0.0,\n",
       " 'bidSize': 900,\n",
       " 'askSize': 1000,\n",
       " 'marketCap': 98583371776,\n",
       " 'fiftyTwoWeekLow': 55.36,\n",
       " 'fiftyTwoWeekHigh': 77.44,\n",
       " 'priceToSalesTrailing12Months': 0.36797473,\n",
       " 'fiftyDayAverage': 74.588234,\n",
       " 'twoHundredDayAverage': 70.16089,\n",
       " 'trailingAnnualDividendRate': 2.0,\n",
       " 'trailingAnnualDividendYield': 0.026402641,\n",
       " 'currency': 'USD',\n",
       " 'fromCurrency': None,\n",
       " 'toCurrency': None,\n",
       " 'lastMarket': None,\n",
       " 'algorithm': None,\n",
       " 'tradeable': False}"
      ]
     },
     "metadata": {},
     "execution_count": 112
    }
   ],
   "source": [
    "from yahooquery import Ticker\n",
    "\n",
    "cvs = Ticker('cvs')\n",
    "\n",
    "data = cvs.summary_detail['cvs']\n",
    "data"
   ]
  },
  {
   "cell_type": "code",
   "execution_count": 113,
   "metadata": {},
   "outputs": [
    {
     "output_type": "stream",
     "name": "stdout",
     "text": [
      "75.75\n13.748857\n"
     ]
    }
   ],
   "source": [
    "# Question 1 for PE and Stock Price\n",
    "print(data['previousClose'])\n",
    "print(data['trailingPE'])"
   ]
  },
  {
   "cell_type": "code",
   "execution_count": 114,
   "metadata": {},
   "outputs": [
    {
     "output_type": "stream",
     "name": "stdout",
     "text": [
      "0.63439998\n"
     ]
    }
   ],
   "source": [
    "# Question 2 plowback ratio\n",
    "print(1-data['payoutRatio'])"
   ]
  },
  {
   "cell_type": "code",
   "execution_count": 115,
   "metadata": {},
   "outputs": [
    {
     "output_type": "stream",
     "name": "stdout",
     "text": [
      "Next 5 Years (per annum) : 3.77%\n"
     ]
    }
   ],
   "source": [
    "# Question 3 5 year growth estimate\n",
    "import re\n",
    "import json\n",
    "\n",
    "r = requests.get(\"https://finance.yahoo.com/quote/CVS/analysis?p=CVS\")\n",
    "\n",
    "pull = json.loads(re.search('root\\.App\\.main\\s*=\\s*(.*);', r.text).group(1))\n",
    "\n",
    "field = [t for t in pull[\"context\"][\"dispatcher\"][\"stores\"][\"QuoteSummaryStore\"][\"earningsTrend\"][\"trend\"] if t[\"period\"] == \"+5y\" ][0]\n",
    "\n",
    "print(\"Next 5 Years (per annum) : \" + field[\"growth\"][\"fmt\"])"
   ]
  },
  {
   "cell_type": "code",
   "execution_count": 116,
   "metadata": {},
   "outputs": [
    {
     "output_type": "stream",
     "name": "stdout",
     "text": [
      "5.931%\n"
     ]
    }
   ],
   "source": [
    "# Question 4 CAPM\n",
    "RiskFree = 0.01\n",
    "MarketRiskPremium = 0.06\n",
    "capm = RiskFree+data['beta']*MarketRiskPremium\n",
    "capm = \"{:.3%}\".format(capm)\n",
    "print(capm)"
   ]
  },
  {
   "cell_type": "code",
   "execution_count": 117,
   "metadata": {},
   "outputs": [
    {
     "output_type": "stream",
     "name": "stdout",
     "text": [
      "0.0377 0.63439998 0.05931\nThe GGM PE is: 17.56\n"
     ]
    }
   ],
   "source": [
    "# Question 5 on GGM\n",
    "# in GGM ((1-b)(1+g))/r-g=pe\n",
    "\n",
    "def p2f(x):\n",
    "    return float(x.strip('%'))/100\n",
    "\n",
    "g = p2f(field[\"growth\"][\"fmt\"])\n",
    "b = 1-data['payoutRatio']\n",
    "r = p2f(capm)\n",
    "print(g,b,r)\n",
    "\n",
    "GordonGrowthModelPE = ((1+g)*(1-b))/(r-g)\n",
    "GordonGrowthModelPE = \"{0:.2f}\".format(GordonGrowthModelPE)\n",
    "print(\"The GGM PE is: \"+str(GordonGrowthModelPE))"
   ]
  },
  {
   "cell_type": "code",
   "execution_count": 118,
   "metadata": {},
   "outputs": [],
   "source": [
    "#Question 6 What growth rate does the current market price-earnings ratio imply, under our numerical assumptions regarding the value of the risk-free rate and the market risk premium.\n",
    "g = 0.0\n",
    "PEratio = data['trailingPE']\n",
    "g = abs((((1+g)*(1-b))/PEratio)-r)\n",
    "g = \"{:.3%}\".format(g)"
   ]
  },
  {
   "cell_type": "code",
   "execution_count": 119,
   "metadata": {},
   "outputs": [
    {
     "output_type": "execute_result",
     "data": {
      "text/plain": [
       "'3.272%'"
      ]
     },
     "metadata": {},
     "execution_count": 119
    }
   ],
   "source": [
    "g"
   ]
  },
  {
   "cell_type": "code",
   "execution_count": null,
   "metadata": {},
   "outputs": [],
   "source": []
  }
 ]
}